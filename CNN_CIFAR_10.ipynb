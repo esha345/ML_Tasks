{
  "nbformat": 4,
  "nbformat_minor": 0,
  "metadata": {
    "colab": {
      "name": "CNN_CIFAR_10.ipynb",
      "provenance": [],
      "collapsed_sections": [],
      "toc_visible": true,
      "include_colab_link": true
    },
    "kernelspec": {
      "name": "python3",
      "display_name": "Python 3"
    },
    "accelerator": "GPU"
  },
  "cells": [
    {
      "cell_type": "markdown",
      "metadata": {
        "id": "view-in-github",
        "colab_type": "text"
      },
      "source": [
        "<a href=\"https://colab.research.google.com/github/esha345/ML_Tasks/blob/main/CNN_CIFAR_10.ipynb\" target=\"_parent\"><img src=\"https://colab.research.google.com/assets/colab-badge.svg\" alt=\"Open In Colab\"/></a>"
      ]
    },
    {
      "cell_type": "code",
      "metadata": {
        "id": "HFViYbAc63GA"
      },
      "source": [
        "import numpy as np\n",
        "import tensorflow as tf\n",
        "from tensorflow.keras.models import Sequential\n",
        "from tensorflow.keras.datasets import cifar10\n",
        "from tensorflow.keras.layers import Conv2D, MaxPool2D,  BatchNormalization, Dense, Flatten, Dropout\n",
        "import matplotlib.pyplot as plt\n",
        "from sklearn.metrics import confusion_matrix,classification_report"
      ],
      "execution_count": null,
      "outputs": []
    },
    {
      "cell_type": "code",
      "metadata": {
        "id": "8qFFv5fI7e6P",
        "outputId": "dd642e5a-34e3-44d6-c1ad-f45bf4dc2123",
        "colab": {
          "base_uri": "https://localhost:8080/",
          "height": 52
        }
      },
      "source": [
        "(X_train,Y_train),(X_test,Y_test) = cifar10.load_data()"
      ],
      "execution_count": null,
      "outputs": [
        {
          "output_type": "stream",
          "text": [
            "Downloading data from https://www.cs.toronto.edu/~kriz/cifar-10-python.tar.gz\n",
            "170500096/170498071 [==============================] - 6s 0us/step\n"
          ],
          "name": "stdout"
        }
      ]
    },
    {
      "cell_type": "code",
      "metadata": {
        "id": "ouYKI2gX7mOR",
        "outputId": "4a0a0e31-5968-4c60-b69c-a8ecd72f21b2",
        "colab": {
          "base_uri": "https://localhost:8080/",
          "height": 88
        }
      },
      "source": [
        "print(X_train.shape)\n",
        "print(Y_train.shape)\n",
        "print(X_test.shape)\n",
        "print(Y_test.shape)"
      ],
      "execution_count": null,
      "outputs": [
        {
          "output_type": "stream",
          "text": [
            "(50000, 32, 32, 3)\n",
            "(50000, 1)\n",
            "(10000, 32, 32, 3)\n",
            "(10000, 1)\n"
          ],
          "name": "stdout"
        }
      ]
    },
    {
      "cell_type": "code",
      "metadata": {
        "id": "4rE9HaYt9U6i"
      },
      "source": [
        "label_dict = {0:'Airplane',1:'Automobile',2:'Bird',3:'Cat',4:'Deer',5:'Dog',6:'Frog',7:'Horse',8:'Ship',9:'Truck'}"
      ],
      "execution_count": null,
      "outputs": []
    },
    {
      "cell_type": "code",
      "metadata": {
        "id": "sUe3hpiE70Ep",
        "outputId": "954dd788-3ce8-4319-8927-c4c0e9b9312c",
        "colab": {
          "base_uri": "https://localhost:8080/",
          "height": 266
        }
      },
      "source": [
        "index = 3\n",
        "plt.axis('off')\n",
        "plt.imshow(X_train[index])\n",
        "plt.show()\n",
        "print(label_dict[Y_train[index,0]])"
      ],
      "execution_count": null,
      "outputs": [
        {
          "output_type": "display_data",
          "data": {
            "image/png": "[encoded data removed]",
            "text/plain": [
              "<Figure size 432x288 with 1 Axes>"
            ]
          },
          "metadata": {
            "tags": []
          }
        },
        {
          "output_type": "stream",
          "text": [
            "Deer\n"
          ],
          "name": "stdout"
        }
      ]
    },
    {
      "cell_type": "code",
      "metadata": {
        "id": "NM4gDtHw8Geh",
        "outputId": "1e5febca-4a61-4fa7-eb7d-cbef3e2593d0",
        "colab": {
          "base_uri": "https://localhost:8080/",
          "height": 35
        }
      },
      "source": [
        "Y_train[0]"
      ],
      "execution_count": null,
      "outputs": [
        {
          "output_type": "execute_result",
          "data": {
            "text/plain": [
              "array([6], dtype=uint8)"
            ]
          },
          "metadata": {
            "tags": []
          },
          "execution_count": 8
        }
      ]
    },
    {
      "cell_type": "code",
      "metadata": {
        "id": "-Wh8zsdM8cPS"
      },
      "source": [
        "#Preprocessing\n",
        "def preprocess_images(X):\n",
        "  return X/255.0"
      ],
      "execution_count": null,
      "outputs": []
    },
    {
      "cell_type": "code",
      "metadata": {
        "id": "DfCwU6cPAwO1"
      },
      "source": [
        "#DO NOT RUN THIS MORE THAN ONCE\n",
        "X_train = preprocess_images(X_train)\n",
        "X_test =  preprocess_images(X_test)"
      ],
      "execution_count": null,
      "outputs": []
    },
    {
      "cell_type": "code",
      "metadata": {
        "id": "-6VT2We59te5",
        "cellView": "code"
      },
      "source": [
        "def make_cnn():\n",
        "  model = Sequential()\n",
        "  model.add(Conv2D(32,(3,3),strides = (1,1),padding=\"same\",activation=\"relu\",input_shape=(32,32,3)))\n",
        "  model.add(BatchNormalization())\n",
        "  model.add(Conv2D(32,(3,3),strides = (1,1),padding=\"same\",activation=\"relu\"))\n",
        "  model.add(BatchNormalization())\n",
        "  model.add(MaxPool2D(2,2))\n",
        "  model.add(Dropout(0.2))\n",
        "  model.add(Conv2D(64,(3,3),strides = (1,1),padding=\"same\",activation=\"relu\"))\n",
        "  model.add(BatchNormalization())\n",
        "  model.add(Conv2D(64,(3,3),strides = (1,1),padding=\"same\",activation=\"relu\"))\n",
        "  model.add(BatchNormalization())\n",
        "  model.add(MaxPool2D(2,2))\n",
        "  model.add(Dropout(0.3))\n",
        "\n",
        "  model.add(Conv2D(128,(3,3),strides = (1,1),padding=\"same\",activation=\"relu\"))\n",
        "  model.add(BatchNormalization())\n",
        "  model.add(Conv2D(128,(3,3),strides = (1,1),padding=\"same\",activation=\"relu\"))\n",
        "  model.add(BatchNormalization())\n",
        "  model.add(MaxPool2D(2,2))\n",
        "  model.add(Dropout(0.4))\n",
        "  model.add(Flatten())\n",
        "  model.add(Dense(10,activation='softmax'))\n",
        "  return model"
      ],
      "execution_count": null,
      "outputs": []
    },
    {
      "cell_type": "code",
      "metadata": {
        "id": "BsNOZuKfAGhL",
        "outputId": "4c9a04f0-a357-4446-bbe1-0668f2a03205",
        "colab": {
          "base_uri": "https://localhost:8080/",
          "height": 944
        }
      },
      "source": [
        "model = make_cnn()\n",
        "model.summary()"
      ],
      "execution_count": null,
      "outputs": [
        {
          "output_type": "stream",
          "text": [
            "WARNING:tensorflow:From /usr/local/lib/python3.6/dist-packages/tensorflow_core/python/ops/resource_variable_ops.py:1630: calling BaseResourceVariable.__init__ (from tensorflow.python.ops.resource_variable_ops) with constraint is deprecated and will be removed in a future version.\n",
            "Instructions for updating:\n",
            "If using Keras pass *_constraint arguments to layers.\n",
            "Model: \"sequential\"\n",
            "_________________________________________________________________\n",
            "Layer (type)                 Output Shape              Param #   \n",
            "=================================================================\n",
            "conv2d (Conv2D)              (None, 32, 32, 32)        896       \n",
            "_________________________________________________________________\n",
            "batch_normalization (BatchNo (None, 32, 32, 32)        128       \n",
            "_________________________________________________________________\n",
            "conv2d_1 (Conv2D)            (None, 32, 32, 32)        9248      \n",
            "_________________________________________________________________\n",
            "batch_normalization_1 (Batch (None, 32, 32, 32)        128       \n",
            "_________________________________________________________________\n",
            "max_pooling2d (MaxPooling2D) (None, 16, 16, 32)        0         \n",
            "_________________________________________________________________\n",
            "dropout (Dropout)            (None, 16, 16, 32)        0         \n",
            "_________________________________________________________________\n",
            "conv2d_2 (Conv2D)            (None, 16, 16, 64)        18496     \n",
            "_________________________________________________________________\n",
            "batch_normalization_2 (Batch (None, 16, 16, 64)        256       \n",
            "_________________________________________________________________\n",
            "conv2d_3 (Conv2D)            (None, 16, 16, 64)        36928     \n",
            "_________________________________________________________________\n",
            "batch_normalization_3 (Batch (None, 16, 16, 64)        256       \n",
            "_________________________________________________________________\n",
            "max_pooling2d_1 (MaxPooling2 (None, 8, 8, 64)          0         \n",
            "_________________________________________________________________\n",
            "dropout_1 (Dropout)          (None, 8, 8, 64)          0         \n",
            "_________________________________________________________________\n",
            "conv2d_4 (Conv2D)            (None, 8, 8, 128)         73856     \n",
            "_________________________________________________________________\n",
            "batch_normalization_4 (Batch (None, 8, 8, 128)         512       \n",
            "_________________________________________________________________\n",
            "conv2d_5 (Conv2D)            (None, 8, 8, 128)         147584    \n",
            "_________________________________________________________________\n",
            "batch_normalization_5 (Batch (None, 8, 8, 128)         512       \n",
            "_________________________________________________________________\n",
            "max_pooling2d_2 (MaxPooling2 (None, 4, 4, 128)         0         \n",
            "_________________________________________________________________\n",
            "dropout_2 (Dropout)          (None, 4, 4, 128)         0         \n",
            "_________________________________________________________________\n",
            "flatten (Flatten)            (None, 2048)              0         \n",
            "_________________________________________________________________\n",
            "dense (Dense)                (None, 10)                20490     \n",
            "=================================================================\n",
            "Total params: 309,290\n",
            "Trainable params: 308,394\n",
            "Non-trainable params: 896\n",
            "_________________________________________________________________\n"
          ],
          "name": "stdout"
        }
      ]
    },
    {
      "cell_type": "code",
      "metadata": {
        "id": "Q9MQ47ffAJjp",
        "outputId": "a769abae-3689-4f9a-b1f8-d517a3a0c8b4",
        "colab": {
          "base_uri": "https://localhost:8080/",
          "height": 1000
        }
      },
      "source": [
        "model.compile(optimizer=\"adam\",loss=\"sparse_categorical_crossentropy\",metrics=[\"accuracy\"])\n",
        "history= model.fit(X_train,Y_train,batch_size=128,epochs=30,validation_data=(X_test,Y_test))"
      ],
      "execution_count": null,
      "outputs": [
        {
          "output_type": "stream",
          "text": [
            "Train on 50000 samples, validate on 10000 samples\n",
            "Epoch 1/30\n",
            "50000/50000 [==============================] - 16s 327us/sample - loss: 1.8375 - acc: 0.4296 - val_loss: 2.8173 - val_acc: 0.1977\n",
            "Epoch 2/30\n",
            "50000/50000 [==============================] - 9s 170us/sample - loss: 1.2035 - acc: 0.6046 - val_loss: 0.9558 - val_acc: 0.6699\n",
            "Epoch 3/30\n",
            "50000/50000 [==============================] - 9s 171us/sample - loss: 0.9581 - acc: 0.6822 - val_loss: 1.0672 - val_acc: 0.6390\n",
            "Epoch 4/30\n",
            "50000/50000 [==============================] - 9s 171us/sample - loss: 0.8166 - acc: 0.7227 - val_loss: 0.8363 - val_acc: 0.7124\n",
            "Epoch 5/30\n",
            "50000/50000 [==============================] - 9s 170us/sample - loss: 0.7218 - acc: 0.7532 - val_loss: 0.7821 - val_acc: 0.7352\n",
            "Epoch 6/30\n",
            "50000/50000 [==============================] - 9s 171us/sample - loss: 0.6612 - acc: 0.7724 - val_loss: 0.6423 - val_acc: 0.7830\n",
            "Epoch 7/30\n",
            "50000/50000 [==============================] - 9s 171us/sample - loss: 0.6047 - acc: 0.7893 - val_loss: 0.6299 - val_acc: 0.7856\n",
            "Epoch 8/30\n",
            "50000/50000 [==============================] - 9s 171us/sample - loss: 0.5631 - acc: 0.8047 - val_loss: 0.6140 - val_acc: 0.7834\n",
            "Epoch 9/30\n",
            "50000/50000 [==============================] - 9s 171us/sample - loss: 0.5281 - acc: 0.8169 - val_loss: 0.6426 - val_acc: 0.7828\n",
            "Epoch 10/30\n",
            "50000/50000 [==============================] - 9s 172us/sample - loss: 0.4928 - acc: 0.8291 - val_loss: 0.5788 - val_acc: 0.8035\n",
            "Epoch 11/30\n",
            "50000/50000 [==============================] - 9s 172us/sample - loss: 0.4688 - acc: 0.8368 - val_loss: 0.6269 - val_acc: 0.7988\n",
            "Epoch 12/30\n",
            "50000/50000 [==============================] - 9s 170us/sample - loss: 0.4422 - acc: 0.8453 - val_loss: 0.5224 - val_acc: 0.8234\n",
            "Epoch 13/30\n",
            "50000/50000 [==============================] - 9s 171us/sample - loss: 0.4229 - acc: 0.8520 - val_loss: 0.5285 - val_acc: 0.8227\n",
            "Epoch 14/30\n",
            "50000/50000 [==============================] - 9s 172us/sample - loss: 0.4016 - acc: 0.8573 - val_loss: 0.5664 - val_acc: 0.8183\n",
            "Epoch 15/30\n",
            "50000/50000 [==============================] - 9s 173us/sample - loss: 0.3815 - acc: 0.8649 - val_loss: 0.5462 - val_acc: 0.8195\n",
            "Epoch 16/30\n",
            "50000/50000 [==============================] - 9s 173us/sample - loss: 0.3626 - acc: 0.8742 - val_loss: 0.5161 - val_acc: 0.8311\n",
            "Epoch 17/30\n",
            "50000/50000 [==============================] - 9s 173us/sample - loss: 0.3538 - acc: 0.8739 - val_loss: 0.5165 - val_acc: 0.8309\n",
            "Epoch 18/30\n",
            "50000/50000 [==============================] - 9s 172us/sample - loss: 0.3336 - acc: 0.8816 - val_loss: 0.5502 - val_acc: 0.8217\n",
            "Epoch 19/30\n",
            "50000/50000 [==============================] - 9s 171us/sample - loss: 0.3230 - acc: 0.8859 - val_loss: 0.5711 - val_acc: 0.8130\n",
            "Epoch 20/30\n",
            "50000/50000 [==============================] - 9s 172us/sample - loss: 0.3106 - acc: 0.8887 - val_loss: 0.5185 - val_acc: 0.8341\n",
            "Epoch 21/30\n",
            "50000/50000 [==============================] - 9s 172us/sample - loss: 0.2998 - acc: 0.8937 - val_loss: 0.4950 - val_acc: 0.8400\n",
            "Epoch 22/30\n",
            "50000/50000 [==============================] - 9s 171us/sample - loss: 0.2901 - acc: 0.8959 - val_loss: 0.4818 - val_acc: 0.8440\n",
            "Epoch 23/30\n",
            "50000/50000 [==============================] - 9s 170us/sample - loss: 0.2768 - acc: 0.9021 - val_loss: 0.5072 - val_acc: 0.8372\n",
            "Epoch 24/30\n",
            "50000/50000 [==============================] - 9s 172us/sample - loss: 0.2659 - acc: 0.9050 - val_loss: 0.5191 - val_acc: 0.8391\n",
            "Epoch 25/30\n",
            "50000/50000 [==============================] - 9s 173us/sample - loss: 0.2595 - acc: 0.9066 - val_loss: 0.5059 - val_acc: 0.8469\n",
            "Epoch 26/30\n",
            "50000/50000 [==============================] - 9s 171us/sample - loss: 0.2547 - acc: 0.9081 - val_loss: 0.5723 - val_acc: 0.8286\n",
            "Epoch 27/30\n",
            "50000/50000 [==============================] - 9s 172us/sample - loss: 0.2420 - acc: 0.9126 - val_loss: 0.5273 - val_acc: 0.8407\n",
            "Epoch 28/30\n",
            "50000/50000 [==============================] - 9s 171us/sample - loss: 0.2337 - acc: 0.9169 - val_loss: 0.4936 - val_acc: 0.8485\n",
            "Epoch 29/30\n",
            "50000/50000 [==============================] - 9s 172us/sample - loss: 0.2345 - acc: 0.9162 - val_loss: 0.5418 - val_acc: 0.8384\n",
            "Epoch 30/30\n",
            "50000/50000 [==============================] - 9s 171us/sample - loss: 0.2247 - acc: 0.9186 - val_loss: 0.5532 - val_acc: 0.8404\n"
          ],
          "name": "stdout"
        }
      ]
    },
    {
      "cell_type": "code",
      "metadata": {
        "id": "BdkO7FqWCf9k",
        "outputId": "afbb4af6-cf69-4515-9f38-7cfd3ae97ac8",
        "colab": {
          "base_uri": "https://localhost:8080/",
          "height": 34
        }
      },
      "source": [
        "history.history.keys()"
      ],
      "execution_count": null,
      "outputs": [
        {
          "output_type": "execute_result",
          "data": {
            "text/plain": [
              "dict_keys(['loss', 'acc', 'val_loss', 'val_acc'])"
            ]
          },
          "metadata": {
            "tags": []
          },
          "execution_count": 22
        }
      ]
    },
    {
      "cell_type": "code",
      "metadata": {
        "id": "hCkv5n3DA14e",
        "outputId": "21ca181e-72b0-4592-8436-4378ad9b14e2",
        "colab": {
          "base_uri": "https://localhost:8080/",
          "height": 279
        }
      },
      "source": [
        "plt.plot(history.history[\"loss\"],label=\"loss\")\n",
        "plt.plot(history.history[\"val_loss\"],label=\"val_loss\")\n",
        "plt.legend()\n",
        "plt.xlabel(\"epochs\")\n",
        "plt.ylabel(\"loss\")\n",
        "plt.show()"
      ],
      "execution_count": null,
      "outputs": [
        {
          "output_type": "display_data",
          "data": {
            "image/png": "[encoded data removed]",
            "text/plain": [
              "<Figure size 432x288 with 1 Axes>"
            ]
          },
          "metadata": {
            "tags": []
          }
        }
      ]
    },
    {
      "cell_type": "code",
      "metadata": {
        "id": "fGyjzAqBP70I",
        "outputId": "6bfffb09-9c11-4c9c-c429-234860795c54",
        "colab": {
          "base_uri": "https://localhost:8080/",
          "height": 279
        }
      },
      "source": [
        "plt.plot(history.history[\"acc\"],label=\"acc\")\n",
        "plt.plot(history.history[\"val_acc\"],label=\"val_acc\")\n",
        "plt.legend()\n",
        "plt.xlabel(\"epochs\")\n",
        "plt.ylabel(\"acc\")\n",
        "plt.show()"
      ],
      "execution_count": null,
      "outputs": [
        {
          "output_type": "display_data",
          "data": {
            "image/png": "[encoded data removed]",
            "text/plain": [
              "<Figure size 432x288 with 1 Axes>"
            ]
          },
          "metadata": {
            "tags": []
          }
        }
      ]
    },
    {
      "cell_type": "code",
      "metadata": {
        "id": "kzcpZsuTPC32",
        "outputId": "1568d028-a471-4b43-920c-d0a1bc92b9db",
        "colab": {
          "base_uri": "https://localhost:8080/",
          "height": 187
        }
      },
      "source": [
        "n_images = 10001\n",
        "y_preds = model.predict(X_test[:n_images])\n",
        "y_preds = np.array([[np.argmax(y)] for y in y_preds])\n",
        "confusion_matrix(Y_test,y_preds) #Horizontal is y_pred, vertical is y_true"
      ],
      "execution_count": null,
      "outputs": [
        {
          "output_type": "execute_result",
          "data": {
            "text/plain": [
              "array([[832,  16,  21,  13,  17,   4,  14,   8,  47,  28],\n",
              "       [  7, 929,   0,   3,   1,   1,   4,   0,  17,  38],\n",
              "       [ 57,   5, 706,  31,  55,  40,  67,  27,  10,   2],\n",
              "       [ 13,   4,  40, 647,  46, 120,  67,  32,  16,  15],\n",
              "       [  2,   2,  19,  26, 853,   6,  36,  48,   6,   2],\n",
              "       [ 10,   3,  23,  79,  47, 770,  15,  42,   4,   7],\n",
              "       [  7,   1,  13,  20,  16,   4, 928,   6,   3,   2],\n",
              "       [ 11,   1,  10,  15,  25,  24,   5, 901,   0,   8],\n",
              "       [ 33,   8,   2,   2,   2,   3,   6,   2, 925,  17],\n",
              "       [ 14,  43,   3,   3,   1,   2,   4,   3,  14, 913]])"
            ]
          },
          "metadata": {
            "tags": []
          },
          "execution_count": 26
        }
      ]
    },
    {
      "cell_type": "code",
      "metadata": {
        "id": "xuJKC_1LU_l6",
        "outputId": "3c239c4e-ab04-444b-a2e0-55f10d95c354",
        "colab": {
          "base_uri": "https://localhost:8080/",
          "height": 306
        }
      },
      "source": [
        "print(classification_report(Y_test,y_preds))"
      ],
      "execution_count": null,
      "outputs": [
        {
          "output_type": "stream",
          "text": [
            "              precision    recall  f1-score   support\n",
            "\n",
            "           0       0.84      0.83      0.84      1000\n",
            "           1       0.92      0.93      0.92      1000\n",
            "           2       0.84      0.71      0.77      1000\n",
            "           3       0.77      0.65      0.70      1000\n",
            "           4       0.80      0.85      0.83      1000\n",
            "           5       0.79      0.77      0.78      1000\n",
            "           6       0.81      0.93      0.86      1000\n",
            "           7       0.84      0.90      0.87      1000\n",
            "           8       0.89      0.93      0.91      1000\n",
            "           9       0.88      0.91      0.90      1000\n",
            "\n",
            "    accuracy                           0.84     10000\n",
            "   macro avg       0.84      0.84      0.84     10000\n",
            "weighted avg       0.84      0.84      0.84     10000\n",
            "\n"
          ],
          "name": "stdout"
        }
      ]
    },
    {
      "cell_type": "code",
      "metadata": {
        "id": "CCVf3zclSMY0",
        "outputId": "d0091109-2783-43c8-dbd8-a301c23bdc35",
        "colab": {
          "base_uri": "https://localhost:8080/",
          "height": 265
        }
      },
      "source": [
        "index = 3\n",
        "plt.axis('off')\n",
        "plt.imshow(X_test[index])\n",
        "plt.show()\n",
        "print(label_dict[Y_test[index,0]])"
      ],
      "execution_count": null,
      "outputs": [
        {
          "output_type": "display_data",
          "data": {
            "image/png": "[encoded data removed]",
            "text/plain": [
              "<Figure size 432x288 with 1 Axes>"
            ]
          },
          "metadata": {
            "tags": []
          }
        },
        {
          "output_type": "stream",
          "text": [
            "Airplane\n"
          ],
          "name": "stdout"
        }
      ]
    },
    {
      "cell_type": "code",
      "metadata": {
        "id": "MUzkctBgSfCe"
      },
      "source": [
        ""
      ],
      "execution_count": null,
      "outputs": []
    }
  ]
}